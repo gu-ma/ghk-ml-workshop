{
  "nbformat": 4,
  "nbformat_minor": 0,
  "metadata": {
    "colab": {
      "provenance": [],
      "collapsed_sections": [
        "zIS3qLom_tEX",
        "ZNoIITm94sDr",
        "l4EDFqe5Tj7S",
        "DAt_jgRaUYJK"
      ],
      "include_colab_link": true
    },
    "kernelspec": {
      "name": "python3",
      "display_name": "Python 3"
    },
    "accelerator": "GPU",
    "gpuClass": "standard"
  },
  "cells": [
    {
      "cell_type": "markdown",
      "metadata": {
        "id": "view-in-github",
        "colab_type": "text"
      },
      "source": [
        "<a href=\"https://colab.research.google.com/github/gu-ma/hgk-ml-workshop/blob/main/notebooks/process_videos.ipynb\" target=\"_parent\"><img src=\"https://colab.research.google.com/assets/colab-badge.svg\" alt=\"Open In Colab\"/></a>"
      ]
    },
    {
      "cell_type": "markdown",
      "source": [
        "# Process a folder with video files\n",
        "\n",
        "Assuming we now have a folder with all our videos we will use a script to:\n",
        "\n",
        "* Extract the scenes\n",
        "* Save a short video + thumbnails for each scene\n",
        "\n",
        "Run this cell and restart the runtime ⬇️"
      ],
      "metadata": {
        "id": "u-qjuSkByZDy"
      }
    },
    {
      "cell_type": "code",
      "source": [
        "# Install Some Libraries\n",
        "! pip install scenedetect\n",
        "! pip install ffmpeg-python\n",
        "! pip install salesforce-lavis"
      ],
      "metadata": {
        "id": "Gse4Rqd31vEM"
      },
      "execution_count": null,
      "outputs": []
    },
    {
      "cell_type": "markdown",
      "source": [
        "## Connect Google drive"
      ],
      "metadata": {
        "id": "zIS3qLom_tEX"
      }
    },
    {
      "cell_type": "code",
      "source": [
        "from google.colab import drive\n",
        "drive.mount('/content/drive')"
      ],
      "metadata": {
        "id": "aSCnZLEQ_ZpV"
      },
      "execution_count": null,
      "outputs": []
    },
    {
      "cell_type": "markdown",
      "source": [
        "## Helper function"
      ],
      "metadata": {
        "id": "ZNoIITm94sDr"
      }
    },
    {
      "cell_type": "code",
      "source": [
        "# Fix a problem with shell commands (doesn't work!)\n",
        "# https://stackoverflow.com/questions/31469707/changing-the-locale-preferred-encoding-in-python-3-in-windows\n",
        "import _locale\n",
        "_locale._getdefaultlocale = (lambda *args: ['en_US', 'utf8'])\n",
        "\n",
        "# Import + Preload\n",
        "import re\n",
        "import os\n",
        "import glob\n",
        "import shutil\n",
        "import itertools\n",
        "from pathlib import Path\n",
        "\n",
        "import pandas as pd\n",
        "\n",
        "import torch\n",
        "from PIL import Image\n",
        "from lavis.models import load_model_and_preprocess\n",
        "\n",
        "from scenedetect import open_video, ContentDetector, SceneManager, StatsManager\n",
        "\n",
        "from scenedetect.scene_manager import (\n",
        "    write_scene_list_html,\n",
        "    write_scene_list,\n",
        "    save_images,\n",
        ")\n",
        "\n",
        "import ffmpeg\n",
        "\n",
        "# setup device to use\n",
        "device = torch.device(\"cuda\" if torch.cuda.is_available() else \"cpu\")\n",
        "\n",
        "# loads BLIP caption base model, with finetuned checkpoints on MSCOCO captioning dataset.\n",
        "model, vis_processors, _ = load_model_and_preprocess(\n",
        "    name=\"blip_caption\", model_type=\"base_coco\", is_eval=True, device=device\n",
        ")\n",
        "\n",
        "\n",
        "def video_extract_scenes(\n",
        "    video_path,\n",
        "    output_dir,\n",
        "    threshold=30.0,\n",
        "    min_scene_len=15,\n",
        "    frames_per_scene=3,\n",
        "    generate_captions=True,\n",
        "):\n",
        "\n",
        "    video_name = Path(video_path).stem\n",
        "\n",
        "    # Create video_stream, and stats manager.\n",
        "    video_stream = open_video(video_path)\n",
        "    stats_manager = StatsManager()\n",
        "\n",
        "    # Construct our SceneManager and pass it our StatsManager.\n",
        "    scene_manager = SceneManager(stats_manager)\n",
        "\n",
        "    # Add ContentDetector algorithm\n",
        "    content_detector = ContentDetector(threshold=threshold, min_scene_len=min_scene_len)\n",
        "    scene_manager.add_detector(content_detector)\n",
        "\n",
        "    # Improve processing speed by downscaling before processing.\n",
        "    scene_manager.auto_downscale = True\n",
        "\n",
        "    # Perform the scene detection.\n",
        "    scene_manager.detect_scenes(video=video_stream, show_progress=True)\n",
        "\n",
        "    # Get scene list\n",
        "    scene_list = scene_manager.get_scene_list()\n",
        "\n",
        "    # Save images\n",
        "    image_filenames = save_images(\n",
        "        scene_list=scene_list,\n",
        "        video=video_stream,\n",
        "        num_images=frames_per_scene,\n",
        "        output_dir=output_dir,\n",
        "        show_progress=True,\n",
        "    )\n",
        "\n",
        "    # Save an html summary\n",
        "    output_html_filename = str(Path(output_dir) / f\"{video_name}_preview.html\")\n",
        "    write_scene_list_html(\n",
        "        output_html_filename=output_html_filename,\n",
        "        scene_list=scene_list,\n",
        "        image_filenames=image_filenames,\n",
        "        image_width=320,\n",
        "        image_height=240,\n",
        "    )\n",
        "\n",
        "    # Prepare for captioning\n",
        "    captions = []\n",
        "\n",
        "    # Print info on detected scenes + generate captions\n",
        "    for i, tup in enumerate(zip(scene_list, image_filenames.items())):\n",
        "\n",
        "        scene, image = tup\n",
        "\n",
        "        # Print info\n",
        "        print(\n",
        "            'Scene %2d: Start %s / Frame %d, End %s / Frame %d'\n",
        "            % (\n",
        "                i + 1,\n",
        "                scene[0].get_timecode(),\n",
        "                scene[0].get_frames(),\n",
        "                scene[1].get_timecode(),\n",
        "                scene[1].get_frames(),\n",
        "            )\n",
        "        )\n",
        "\n",
        "        # Generate captions\n",
        "        if generate_captions:\n",
        "\n",
        "            # load and preprocess image\n",
        "            image_fp = os.path.join(output_dir, image[1][0])\n",
        "            raw_image = Image.open(image_fp).convert(\"RGB\")\n",
        "            image = vis_processors[\"eval\"](raw_image).unsqueeze(0).to(device)\n",
        "\n",
        "            # generate caption\n",
        "            # caption = model.generate({\"image\": image})\n",
        "            caption = model.generate(\n",
        "                {\"image\": image}, use_nucleus_sampling=True, num_captions=2\n",
        "            )\n",
        "            captions.append(caption)\n",
        "\n",
        "            print(f'Caption: {caption}')\n",
        "\n",
        "    # Save csv with scenes\n",
        "    stats_file_filename = str(Path(output_dir) / f'{video_name}_stats.csv')\n",
        "    with open(stats_file_filename, \"w\") as f:\n",
        "        write_scene_list(\n",
        "            output_csv_file=f, scene_list=scene_list, include_cut_list=False\n",
        "        )\n",
        "\n",
        "    # Append captions to csv\n",
        "    if generate_captions:\n",
        "        scenes_pd = pd.read_csv(stats_file_filename)\n",
        "        captions_pd = pd.DataFrame(captions, columns=['caption1', 'caption2'])\n",
        "        scenes_pd = pd.concat([scenes_pd, captions_pd], axis=1)\n",
        "        scenes_pd.to_csv(stats_file_filename)\n",
        "\n",
        "    return scene_list, image_filenames, captions\n",
        "\n",
        "\n",
        "def rename_file(file):\n",
        "    parent = Path(file).parent\n",
        "    suffix = Path(file).suffix\n",
        "    stem = re.sub(\"[^A-Za-z0-9_]+\", \"-\", Path(file).stem)\n",
        "    filename = f'{stem}{suffix}'\n",
        "    return parent / filename\n",
        "\n",
        "\n",
        "def trim_video(input_path, output_path, start=30, end=60):\n",
        "    input_stream = ffmpeg.input(input_path)\n",
        "\n",
        "    vid = (\n",
        "        input_stream\n",
        "        .filter('trim', start=start, end=end)\n",
        "        .setpts('PTS-STARTPTS')\n",
        "    )\n",
        "\n",
        "    aud = (\n",
        "        input_stream.audio\n",
        "        .filter_('atrim', start=start, end=end)\n",
        "        .filter_('asetpts', 'PTS-STARTPTS')\n",
        "    )\n",
        "\n",
        "    joined = ffmpeg.concat(vid, aud, v=1, a=1).node\n",
        "    output = ffmpeg.output(vid, output_path, **{\"c\": \"copy\", \"c:v\": \"libx264\", \"crf\": \"24\", \"c:a\": \"copy\"})\n",
        "    output.run(quiet=False, overwrite_output=True)\n",
        "\n"
      ],
      "metadata": {
        "id": "cD_xrMHYHKTZ"
      },
      "execution_count": null,
      "outputs": []
    },
    {
      "cell_type": "markdown",
      "source": [
        "## Video Processing"
      ],
      "metadata": {
        "id": "s7nND5mu4zay"
      }
    },
    {
      "cell_type": "code",
      "metadata": {
        "id": "qOKysSYyVPWI",
        "cellView": "form"
      },
      "source": [
        "import re\n",
        "import shutil\n",
        "\n",
        "# @markdown Path to source directory on google drive. Right click your directory and choose \"copy path\" then paste it below\n",
        "gdrive_input_dir = \"/content/drive/MyDrive/AI/hgk_workshop/playlist01\"  # @param { type:'string' }\n",
        "\n",
        "# @markdown Minimum scenes length (in __frames__)\n",
        "min_scene_len = 30  # @param { type:\"slider\", min:1, max:120, step:1 }\n",
        "\n",
        "# @markdown Number of image to save per scenes\n",
        "frames_per_scene = 1  # @param { type: \"integer\" }\n",
        "\n",
        "# @markdown Higher threshold = Less scenes detected\n",
        "threshold = 30  # @param { type:\"slider\", min:10, max:300, step:1 }\n",
        "\n",
        "# @markdown generate captions\n",
        "generate_captions = True  # @param { type:\"boolean\"}\n",
        "\n",
        "# @markdown create a short video for each scene\n",
        "create_videos = True  # @param { type:\"boolean\"}\n",
        "\n",
        "# @markdown Test only on the first video\n",
        "test = True  # @param { type:\"boolean\" }\n",
        "\n",
        "# @markdown Copy all files to google drive when done\n",
        "copy_to_gdrive = True  # @param { type:\"boolean\" }\n",
        "\n",
        "# Set local directories name\n",
        "input_dir = \"/content/input\"\n",
        "output_dir = \"/content/output\"\n",
        "\n",
        "# Some other dir vars\n",
        "(gdrive_path, gdrive_folder) = os.path.split(gdrive_input_dir)\n",
        "gdrive_folder = f'{gdrive_folder}_output'\n",
        "\n",
        "gdrive_output_dir = Path(gdrive_path) / Path(gdrive_folder)\n",
        "\n",
        "# Create output dir if it does not exist\n",
        "if not os.path.isdir(output_dir):\n",
        "    os.mkdir(output_dir)\n",
        "\n",
        "# Create input dir if it does not exist\n",
        "if not os.path.isdir(input_dir):\n",
        "    os.mkdir(input_dir)\n",
        "\n",
        "# Copy all files locally\n",
        "shutil.copytree(gdrive_input_dir, input_dir, dirs_exist_ok=True)\n",
        "\n",
        "# List all files in the input directory\n",
        "dir_path = f'{input_dir}/**/*.*'\n",
        "files = glob.glob(dir_path, recursive=True)\n",
        "files.sort()\n",
        "\n",
        "# Process each file\n",
        "for i, file in enumerate(files):\n",
        "\n",
        "    new_filename = rename_file(file)\n",
        "    os.rename(file, new_filename)\n",
        "    file = str(new_filename)\n",
        "\n",
        "    if i >= 1 and test:\n",
        "        break\n",
        "\n",
        "    print(f'---\\n{file}\\n---\\nExtracting scenes\\n---')\n",
        "\n",
        "    # Extract scenes\n",
        "    [scene_list, image_filenames, captions] = video_extract_scenes(\n",
        "        video_path=file,\n",
        "        output_dir=output_dir,\n",
        "        threshold=threshold,\n",
        "        min_scene_len=min_scene_len,\n",
        "        frames_per_scene=frames_per_scene,\n",
        "        generate_captions=generate_captions,\n",
        "    )\n",
        "\n",
        "    # create short videos\n",
        "    if create_videos:\n",
        "        print('---\\nCreating videos\\n---')\n",
        "        fp_in = file\n",
        "        for i, [scene, image] in enumerate(zip(scene_list, image_filenames.items())):\n",
        "            fp_img = str(image[1][0])[:-4]\n",
        "            fp_out = f\"{output_dir}/{fp_img}.mp4\"\n",
        "            start_time = float(scene[0].get_seconds())\n",
        "            end_time = float(scene[1].get_seconds())\n",
        "            print(fp_in, fp_out, start_time, end_time)\n",
        "            if not os.path.exists(fp_out):\n",
        "                output = trim_video(fp_in, fp_out, start_time, end_time)\n",
        "            # ! ffmpeg -y -hide_banner -loglevel error -i {fp_in} -ss {ss} -to {to} -c copy -c:v libx264 -crf 24 -c:a copy {fp_out}\n",
        "\n",
        "if copy_to_gdrive:\n",
        "    # Create input dir if it does not exist\n",
        "    if not os.path.isdir(gdrive_output_dir):\n",
        "        os.mkdir(gdrive_output_dir)\n",
        "\n",
        "    # Copy the processed files to gdrive\n",
        "    shutil.copytree(output_dir, gdrive_output_dir, dirs_exist_ok=True)"
      ],
      "execution_count": null,
      "outputs": []
    },
    {
      "cell_type": "markdown",
      "source": [
        "## Make a zip file\n",
        "\n",
        "You can right click the file on the left to download it ⬅️"
      ],
      "metadata": {
        "id": "l4EDFqe5Tj7S"
      }
    },
    {
      "cell_type": "code",
      "source": [
        "# Create a ZIP file\n",
        "shutil.make_archive(base_name=str(gdrive_folder), format='zip', root_dir=output_dir)"
      ],
      "metadata": {
        "id": "XQW9INkDNwRq"
      },
      "execution_count": null,
      "outputs": []
    },
    {
      "cell_type": "markdown",
      "source": [
        "## Run this cell to delete the output folder"
      ],
      "metadata": {
        "id": "DAt_jgRaUYJK"
      }
    },
    {
      "cell_type": "code",
      "source": [
        "shutil.rmtree(output_dir)"
      ],
      "metadata": {
        "id": "h1rYmgDHrLzX"
      },
      "execution_count": null,
      "outputs": []
    }
  ]
}