{
  "nbformat": 4,
  "nbformat_minor": 0,
  "metadata": {
    "colab": {
      "provenance": [],
      "collapsed_sections": [
        "LVJn1MU_YbFo",
        "zIS3qLom_tEX",
        "vPbSh4p7-QGs"
      ],
      "include_colab_link": true
    },
    "kernelspec": {
      "name": "python3",
      "display_name": "Python 3"
    },
    "gpuClass": "standard"
  },
  "cells": [
    {
      "cell_type": "markdown",
      "metadata": {
        "id": "view-in-github",
        "colab_type": "text"
      },
      "source": [
        "<a href=\"https://colab.research.google.com/github/gu-ma/hgk-ml-workshop/blob/main/notebooks/youtube_dl.ipynb\" target=\"_parent\"><img src=\"https://colab.research.google.com/assets/colab-badge.svg\" alt=\"Open In Colab\"/></a>"
      ]
    },
    {
      "cell_type": "markdown",
      "source": [
        "# Download a list of youtube files and save in drive folder\n",
        "\n",
        "Download a video or playlist from youtube using [youtube-dl](https://youtube-dl.org/). Other [websites are supported as well](https://github.com/yt-dlp/yt-dlp/blob/master/supportedsites.md) just try to copy paste the url in the field below.\n",
        "\n",
        "_Note: you can test this notebook by just running the cells in order below_\n",
        "\n",
        "> We are going to use a fork of youtube-dl, called [yt-dlp](https://github.com/yt-dlp/yt-dlp) because it seems that the speed of youtube-dl is throttled in Colab"
      ],
      "metadata": {
        "id": "u-qjuSkByZDy"
      }
    },
    {
      "cell_type": "markdown",
      "source": [
        "## Setup"
      ],
      "metadata": {
        "id": "LVJn1MU_YbFo"
      }
    },
    {
      "cell_type": "code",
      "source": [
        "# Install + Import + Config\n",
        "try: import yt_dlp\n",
        "except:\n",
        "    ! pip install yt-dlp\n",
        "\n",
        "# from __future__ import unicode_literals\n",
        "\n",
        "import yt_dlp\n",
        "import google\n",
        "import os"
      ],
      "metadata": {
        "id": "Gse4Rqd31vEM"
      },
      "execution_count": null,
      "outputs": []
    },
    {
      "cell_type": "markdown",
      "source": [
        "## Connect Google drive"
      ],
      "metadata": {
        "id": "zIS3qLom_tEX"
      }
    },
    {
      "cell_type": "code",
      "source": [
        "from google.colab import drive\n",
        "drive.mount('/content/drive')"
      ],
      "metadata": {
        "id": "aSCnZLEQ_ZpV"
      },
      "execution_count": null,
      "outputs": []
    },
    {
      "cell_type": "markdown",
      "source": [
        "## Download files from youtube"
      ],
      "metadata": {
        "id": "JAqJL-JwAInX"
      }
    },
    {
      "cell_type": "code",
      "metadata": {
        "id": "qOKysSYyVPWI",
        "cellView": "form"
      },
      "source": [
        "#@title Video + Playlist Downloader - Simple Mode { vertical-output: true }\n",
        "url = \"https://www.youtube.com/playlist?list=PLOWSbqDrrI5RV1I7JKTWQnvJpjgqC_yzD\" #@param {type:\"string\"}\n",
        "name = \"playlist01\" #@param { type: 'string' }\n",
        "playlist_download_all = False #@param { type: 'boolean' }\n",
        "playlist_start = 0 #@param { type: 'number' }\n",
        "playlist_end = 5 #@param { type: 'number' }\n",
        "clear_dir = False #@param { type: 'boolean' }\n",
        "\n",
        "# Clear / Make dir\n",
        "output_dir = name\n",
        "if clear_dir and os.path.isdir(output_dir):\n",
        "  for file in os.scandir(output_dir):\n",
        "    os.remove(file.path)\n",
        "os.makedirs(output_dir, exist_ok=True)\n",
        "\n",
        "# Download options\n",
        "playlist_items = f'{playlist_start}:{playlist_end}' if not playlist_download_all else ''\n",
        "\n",
        "ydl_opts = {\n",
        "  'outtmpl': f'{output_dir}/%(title)s.%(ext)s',\n",
        "  'format': 'bestvideo[ext=mp4]+bestaudio[ext=m4a]/best[ext=mp4]/best',\n",
        "  'playlist_items': playlist_items\n",
        "}\n",
        "\n",
        "print(ydl_opts)\n",
        "\n",
        "# Download\n",
        "with yt_dlp.YoutubeDL(ydl_opts) as ydl:\n",
        "  ydl.download([url])"
      ],
      "execution_count": null,
      "outputs": []
    },
    {
      "cell_type": "code",
      "source": [
        "#@title Zip and copy to gdrive { vertical-output: true }\n",
        "\n",
        "#@markdown Path to destination on google drive. Right click your directory on the left side ⬅️ and choose \"copy path\" then paste it below\n",
        "gdrive_output_dir = \"/content/drive/MyDrive/AI/hgk_workshop\" #@param { type: 'string' }\n",
        "\n",
        "#@markdown Compress the content ? (leave it unchecked)\n",
        "zip_it =  False #@param { type: 'boolean' }\n",
        "\n",
        "# Zip\n",
        "if zip_it:\n",
        "\n",
        "  if os.path.exists(f'{output_dir}.zip'):\n",
        "    os.remove(f'{output_dir}.zip')\n",
        "    \n",
        "  ! zip {output_dir}.zip {output_dir}/*.*\n",
        "\n",
        "  # Copy to gdrive folder\n",
        "  ! cp {output_dir}.zip {gdrive_output_dir}\n",
        "\n",
        "else:\n",
        "\n",
        "  # Copy folder to google drive\n",
        "  ! cp -r {output_dir} {gdrive_output_dir}"
      ],
      "metadata": {
        "id": "XQW9INkDNwRq",
        "cellView": "form"
      },
      "execution_count": null,
      "outputs": []
    },
    {
      "cell_type": "markdown",
      "source": [
        "## Example on how to do that on the command line"
      ],
      "metadata": {
        "id": "vPbSh4p7-QGs"
      }
    },
    {
      "cell_type": "code",
      "metadata": {
        "id": "w-zMRrNaNiSl"
      },
      "source": [
        "! yt-dlp --playlist-items 0:0 https://www.youtube.com/playlist?list=PLOWSbqDrrI5RV1I7JKTWQnvJpjgqC_yzD"
      ],
      "execution_count": null,
      "outputs": []
    },
    {
      "cell_type": "markdown",
      "source": [
        "Examples of command:\n",
        "\n",
        "\n",
        "```\n",
        "  - Download a video or playlist (with the default options from command below):\n",
        "    yt-dlp \"https://www.youtube.com/watch?v=oHg5SJYRHA0\"\n",
        "\n",
        "  - Download a video with a defined format. In this case merging the best video format with the best audio format (Default):\n",
        "    yt-dlp --format \"bv*+ba/b\" \"https://www.youtube.com/watch?v=oHg5SJYRHA0\"\n",
        "\n",
        "  - Extract audio from videos (required ffmpeg or ffprobe):\n",
        "    yt-dlp --extract-audio \"https://www.youtube.com/watch?v=oHg5SJYRHA0\"\n",
        "\n",
        "  - Specify audio format of extracted audio (best(default), aac, flac, mp3, m4a, opus, vorbis, wav, alac):\n",
        "    yt-dlp --extract-audio --audio-format mp3 \"https://www.youtube.com/watch?v=oHg5SJYRHA0\"\n",
        "\n",
        "  - Specify audio quality of extracted audio (between 0 (best) and 10 (worst), default = 5):\n",
        "    yt-dlp --extract-audio --audio-format mp3 --audio-quality 0 \"https://www.youtube.com/watch?v=oHg5SJYRHA0\"\n",
        "\n",
        "  - Download all playlists of YouTube channel/user keeping each playlist in separate directory:\n",
        "    yt-dlp -o \"%(uploader)s/%(playlist)s/%(playlist_index)s - %(title)s.%(ext)s\" \"https://www.youtube.com/user/TheLinuxFoundation/playlists\"\n",
        "\n",
        "  - Download Udemy course keeping each chapter in separate directory under MyVideos directory in your home:\n",
        "    yt-dlp -u user -p password -P \"~/MyVideos\" -o \"%(playlist)s/%(chapter_number)s - %(chapter)s/%(title)s.%(ext)s\" \"https://www.udemy.com/java-tutorial\"\n",
        "\n",
        "  - Download entire series season keeping each series and each season in separate directory under C:/MyVideos:\n",
        "    yt-dlp -P \"C:/MyVideos\" -o \"%(series)s/%(season_number)s - %(season)s/%(episode_number)s - %(episode)s.%(ext)s\" \"https://videomore.ru/kino_v_detalayah/5_sezon/367617\"**bold text**\n",
        "```\n",
        "\n",
        "More examples:\n",
        "```\n",
        "Output template examples\n",
        "$ yt-dlp --get-filename -o \"test video.%(ext)s\" BaW_jenozKc\n",
        "test video.webm    # Literal name with correct extension\n",
        "\n",
        "$ yt-dlp --get-filename -o \"%(title)s.%(ext)s\" BaW_jenozKc\n",
        "youtube-dl test video ''_ä↭𝕐.webm    # All kinds of weird characters\n",
        "\n",
        "$ yt-dlp --get-filename -o \"%(title)s.%(ext)s\" BaW_jenozKc --restrict-filenames\n",
        "youtube-dl_test_video_.webm    # Restricted file name\n",
        "\n",
        "# Download YouTube playlist videos in separate directory indexed by video order in a playlist\n",
        "$ yt-dlp -o \"%(playlist)s/%(playlist_index)s - %(title)s.%(ext)s\" \"https://www.youtube.com/playlist?list=PLwiyx1dc3P2JR9N8gQaQN_BCvlSlap7re\"\n",
        "\n",
        "# Download YouTube playlist videos in separate directories according to their uploaded year\n",
        "$ yt-dlp -o \"%(upload_date>%Y)s/%(title)s.%(ext)s\" \"https://www.youtube.com/playlist?list=PLwiyx1dc3P2JR9N8gQaQN_BCvlSlap7re\"\n",
        "\n",
        "# Prefix playlist index with \" - \" separator, but only if it is available\n",
        "$ yt-dlp -o '%(playlist_index|)s%(playlist_index& - |)s%(title)s.%(ext)s' BaW_jenozKc \"https://www.youtube.com/user/TheLinuxFoundation/playlists\"\n",
        "\n",
        "# Download all playlists of YouTube channel/user keeping each playlist in separate directory:\n",
        "$ yt-dlp -o \"%(uploader)s/%(playlist)s/%(playlist_index)s - %(title)s.%(ext)s\" \"https://www.youtube.com/user/TheLinuxFoundation/playlists\"\n",
        "\n",
        "# Download Udemy course keeping each chapter in separate directory under MyVideos directory in your home\n",
        "$ yt-dlp -u user -p password -P \"~/MyVideos\" -o \"%(playlist)s/%(chapter_number)s - %(chapter)s/%(title)s.%(ext)s\" \"https://www.udemy.com/java-tutorial\"\n",
        "\n",
        "# Download entire series season keeping each series and each season in separate directory under C:/MyVideos\n",
        "$ yt-dlp -P \"C:/MyVideos\" -o \"%(series)s/%(season_number)s - %(season)s/%(episode_number)s - %(episode)s.%(ext)s\" \"https://videomore.ru/kino_v_detalayah/5_sezon/367617\"\n",
        "\n",
        "# Download video as \"C:\\MyVideos\\uploader\\title.ext\", subtitles as \"C:\\MyVideos\\subs\\uploader\\title.ext\"\n",
        "# and put all temporary files in \"C:\\MyVideos\\tmp\"\n",
        "$ yt-dlp -P \"C:/MyVideos\" -P \"temp:tmp\" -P \"subtitle:subs\" -o \"%(uploader)s/%(title)s.%(ext)s\" BaW_jenoz --write-subs\n",
        "\n",
        "# Download video as \"C:\\MyVideos\\uploader\\title.ext\" and subtitles as \"C:\\MyVideos\\uploader\\subs\\title.ext\"\n",
        "$ yt-dlp -P \"C:/MyVideos\" -o \"%(uploader)s/%(title)s.%(ext)s\" -o \"subtitle:%(uploader)s/subs/%(title)s.%(ext)s\" BaW_jenozKc --write-subs\n",
        "\n",
        "# Stream the video being downloaded to stdout\n",
        "$ yt-dlp -o - BaW_jenozKc\n",
        "```\n"
      ],
      "metadata": {
        "id": "vXf74fV_G4xG"
      }
    }
  ]
}