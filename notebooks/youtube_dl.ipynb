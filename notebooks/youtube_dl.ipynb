{
  "nbformat": 4,
  "nbformat_minor": 0,
  "metadata": {
    "colab": {
      "provenance": [],
      "collapsed_sections": [
        "LVJn1MU_YbFo",
        "zIS3qLom_tEX"
      ],
      "include_colab_link": true
    },
    "kernelspec": {
      "name": "python3",
      "display_name": "Python 3"
    }
  },
  "cells": [
    {
      "cell_type": "markdown",
      "metadata": {
        "id": "view-in-github",
        "colab_type": "text"
      },
      "source": [
        "<a href=\"https://colab.research.google.com/github/gu-ma/hgk-ml-workshop/blob/main/notebooks/youtube_dl.ipynb\" target=\"_parent\"><img src=\"https://colab.research.google.com/assets/colab-badge.svg\" alt=\"Open In Colab\"/></a>"
      ]
    },
    {
      "cell_type": "markdown",
      "source": [
        "# Download a list of youtube files and save in drive folder\n",
        "\n",
        "Download a video or playlist from youtube using [youtube-dl](https://youtube-dl.org/). Other [websites are supported as well](https://github.com/yt-dlp/yt-dlp/blob/master/supportedsites.md) just try to copy paste the url in the field below.\n",
        "\n",
        "_Note: you can test this notebook by just running the cells in order below_\n",
        "\n",
        "> We are going to use a fork of youtube-dl, called [yt-dlp](https://github.com/yt-dlp/yt-dlp) because it seems that the speed of youtube-dl is throttled"
      ],
      "metadata": {
        "id": "u-qjuSkByZDy"
      }
    },
    {
      "cell_type": "markdown",
      "source": [
        "## Setup"
      ],
      "metadata": {
        "id": "LVJn1MU_YbFo"
      }
    },
    {
      "cell_type": "code",
      "source": [
        "# Install + Import + Config\n",
        "try: import yt_dlp\n",
        "except:\n",
        "    ! pip install yt-dlp\n",
        "\n",
        "# from __future__ import unicode_literals\n",
        "\n",
        "import yt_dlp\n",
        "import google\n",
        "import os"
      ],
      "metadata": {
        "id": "Gse4Rqd31vEM",
        "colab": {
          "base_uri": "https://localhost:8080/"
        },
        "outputId": "c99f1fd5-6309-4c02-9985-00dcf979ae15"
      },
      "execution_count": null,
      "outputs": [
        {
          "output_type": "stream",
          "name": "stdout",
          "text": [
            "Looking in indexes: https://pypi.org/simple, https://us-python.pkg.dev/colab-wheels/public/simple/\n",
            "Collecting yt-dlp\n",
            "  Downloading yt_dlp-2023.1.6-py2.py3-none-any.whl (2.8 MB)\n",
            "\u001b[2K     \u001b[90m━━━━━━━━━━━━━━━━━━━━━━━━━━━━━━━━━━━━━━━━\u001b[0m \u001b[32m2.8/2.8 MB\u001b[0m \u001b[31m25.1 MB/s\u001b[0m eta \u001b[36m0:00:00\u001b[0m\n",
            "\u001b[?25hCollecting brotli\n",
            "  Downloading Brotli-1.0.9-cp38-cp38-manylinux1_x86_64.whl (357 kB)\n",
            "\u001b[2K     \u001b[90m━━━━━━━━━━━━━━━━━━━━━━━━━━━━━━━━━━━━━━\u001b[0m \u001b[32m357.2/357.2 KB\u001b[0m \u001b[31m24.3 MB/s\u001b[0m eta \u001b[36m0:00:00\u001b[0m\n",
            "\u001b[?25hCollecting websockets\n",
            "  Downloading websockets-10.4-cp38-cp38-manylinux_2_5_x86_64.manylinux1_x86_64.manylinux_2_17_x86_64.manylinux2014_x86_64.whl (106 kB)\n",
            "\u001b[2K     \u001b[90m━━━━━━━━━━━━━━━━━━━━━━━━━━━━━━━━━━━━━━━\u001b[0m \u001b[32m107.0/107.0 KB\u001b[0m \u001b[31m6.4 MB/s\u001b[0m eta \u001b[36m0:00:00\u001b[0m\n",
            "\u001b[?25hCollecting mutagen\n",
            "  Downloading mutagen-1.46.0-py3-none-any.whl (193 kB)\n",
            "\u001b[2K     \u001b[90m━━━━━━━━━━━━━━━━━━━━━━━━━━━━━━━━━━━━━━\u001b[0m \u001b[32m193.6/193.6 KB\u001b[0m \u001b[31m14.2 MB/s\u001b[0m eta \u001b[36m0:00:00\u001b[0m\n",
            "\u001b[?25hRequirement already satisfied: certifi in /usr/local/lib/python3.8/dist-packages (from yt-dlp) (2022.12.7)\n",
            "Collecting pycryptodomex\n",
            "  Downloading pycryptodomex-3.17-cp35-abi3-manylinux_2_17_x86_64.manylinux2014_x86_64.whl (2.1 MB)\n",
            "\u001b[2K     \u001b[90m━━━━━━━━━━━━━━━━━━━━━━━━━━━━━━━━━━━━━━━━\u001b[0m \u001b[32m2.1/2.1 MB\u001b[0m \u001b[31m32.4 MB/s\u001b[0m eta \u001b[36m0:00:00\u001b[0m\n",
            "\u001b[?25hInstalling collected packages: brotli, websockets, pycryptodomex, mutagen, yt-dlp\n",
            "Successfully installed brotli-1.0.9 mutagen-1.46.0 pycryptodomex-3.17 websockets-10.4 yt-dlp-2023.1.6\n"
          ]
        }
      ]
    },
    {
      "cell_type": "markdown",
      "source": [
        "## Connect Google drive"
      ],
      "metadata": {
        "id": "zIS3qLom_tEX"
      }
    },
    {
      "cell_type": "code",
      "source": [
        "from google.colab import drive\n",
        "drive.mount('/content/drive')"
      ],
      "metadata": {
        "colab": {
          "base_uri": "https://localhost:8080/"
        },
        "id": "aSCnZLEQ_ZpV",
        "outputId": "b87625e2-f1f2-4d54-be37-eb0407260c71"
      },
      "execution_count": null,
      "outputs": [
        {
          "output_type": "stream",
          "name": "stdout",
          "text": [
            "Mounted at /content/drive\n"
          ]
        }
      ]
    },
    {
      "cell_type": "markdown",
      "source": [
        "## Download files from youtube"
      ],
      "metadata": {
        "id": "JAqJL-JwAInX"
      }
    },
    {
      "cell_type": "code",
      "metadata": {
        "id": "qOKysSYyVPWI",
        "cellView": "form"
      },
      "source": [
        "#@title Video + Playlist Downloader - Simple Mode { vertical-output: true }\n",
        "url = \"https://www.youtube.com/playlist?list=PLOWSbqDrrI5RV1I7JKTWQnvJpjgqC_yzD\" #@param {type:\"string\"}\n",
        "\n",
        "output_dir = \"my_playlist\" #@param { type: 'string' }\n",
        "clear_dir = True #@param { type: 'boolean' }\n",
        "\n",
        "playlist_download_all = False #@param { type: 'boolean' }\n",
        "playlist_start = 0 #@param { type: 'number' }\n",
        "playlist_end = 10 #@param { type: 'number' }\n",
        "\n",
        "# Clear / Make dir\n",
        "if clear_dir and os.path.isdir(output_dir):\n",
        "  for file in os.scandir(output_dir):\n",
        "    os.remove(file.path)\n",
        "os.makedirs(output_dir, exist_ok=True)\n",
        "\n",
        "# Download options\n",
        "playlist_items = f'{playlist_start}:{playlist_end}' if not playlist_download_all else ''\n",
        "\n",
        "ydl_opts = {\n",
        "  'outtmpl': f'{output_dir}/%(title)s.%(ext)s',\n",
        "  'format': 'bestvideo[ext=mp4]+bestaudio[ext=m4a]/best[ext=mp4]/best',\n",
        "  'playlist_items': playlist_items\n",
        "}\n",
        "print(ydl_opts)\n",
        "\n",
        "# Download\n",
        "with yt_dlp.YoutubeDL(ydl_opts) as ydl:\n",
        "  ydl.download([url])\n"
      ],
      "execution_count": null,
      "outputs": []
    },
    {
      "cell_type": "markdown",
      "source": [
        "### Zip and copy to your google drive"
      ],
      "metadata": {
        "id": "mtzYtgeRsdD6"
      }
    },
    {
      "cell_type": "code",
      "source": [
        "# Zip\n",
        "# if os.path.exists('archive.zip'):\n",
        "#   os.remove('archive.zip')\n",
        "! zip archive.zip {output_dir}/*.*"
      ],
      "metadata": {
        "id": "XQW9INkDNwRq"
      },
      "execution_count": null,
      "outputs": []
    },
    {
      "cell_type": "code",
      "source": [
        "# Copy to gdrive"
      ],
      "metadata": {
        "id": "Q5YKbko_stOW"
      },
      "execution_count": null,
      "outputs": []
    },
    {
      "cell_type": "markdown",
      "source": [
        "## Example on how to do that on the command line"
      ],
      "metadata": {
        "id": "vPbSh4p7-QGs"
      }
    },
    {
      "cell_type": "code",
      "metadata": {
        "id": "w-zMRrNaNiSl",
        "outputId": "fae68a35-afa6-491c-8784-f22401038cbc",
        "colab": {
          "base_uri": "https://localhost:8080/"
        }
      },
      "source": [
        "! yt-dlp --playlist-items 0:0 https://www.youtube.com/playlist?list=PLOWSbqDrrI5RV1I7JKTWQnvJpjgqC_yzD"
      ],
      "execution_count": null,
      "outputs": [
        {
          "output_type": "stream",
          "name": "stdout",
          "text": [
            "[youtube:tab] PLOWSbqDrrI5RV1I7JKTWQnvJpjgqC_yzD: Downloading webpage\n",
            "\u001b[0;33mWARNING:\u001b[0m [youtube:tab] YouTube said: INFO - Unavailable videos are hidden\n",
            "[youtube:tab] PLOWSbqDrrI5RV1I7JKTWQnvJpjgqC_yzD: Downloading API JSON with unavailable videos\n",
            "\u001b[0;33mWARNING:\u001b[0m [youtube:tab] YouTube said: INFO - Unavailable videos will be hidden during playback\n",
            "[download] Downloading playlist: FailArmy Themed Fail Compilations\n",
            "[youtube:tab] Playlist FailArmy Themed Fail Compilations: Downloading 0 videos of 302\n",
            "[download] Finished downloading playlist: FailArmy Themed Fail Compilations\n"
          ]
        }
      ]
    },
    {
      "cell_type": "markdown",
      "source": [
        "Examples of command:\n",
        "\n",
        "\n",
        "```\n",
        "  - Download a video or playlist (with the default options from command below):\n",
        "    yt-dlp \"https://www.youtube.com/watch?v=oHg5SJYRHA0\"\n",
        "\n",
        "  - Download a video with a defined format. In this case merging the best video format with the best audio format (Default):\n",
        "    yt-dlp --format \"bv*+ba/b\" \"https://www.youtube.com/watch?v=oHg5SJYRHA0\"\n",
        "\n",
        "  - Extract audio from videos (required ffmpeg or ffprobe):\n",
        "    yt-dlp --extract-audio \"https://www.youtube.com/watch?v=oHg5SJYRHA0\"\n",
        "\n",
        "  - Specify audio format of extracted audio (best(default), aac, flac, mp3, m4a, opus, vorbis, wav, alac):\n",
        "    yt-dlp --extract-audio --audio-format mp3 \"https://www.youtube.com/watch?v=oHg5SJYRHA0\"\n",
        "\n",
        "  - Specify audio quality of extracted audio (between 0 (best) and 10 (worst), default = 5):\n",
        "    yt-dlp --extract-audio --audio-format mp3 --audio-quality 0 \"https://www.youtube.com/watch?v=oHg5SJYRHA0\"\n",
        "\n",
        "  - Download all playlists of YouTube channel/user keeping each playlist in separate directory:\n",
        "    yt-dlp -o \"%(uploader)s/%(playlist)s/%(playlist_index)s - %(title)s.%(ext)s\" \"https://www.youtube.com/user/TheLinuxFoundation/playlists\"\n",
        "\n",
        "  - Download Udemy course keeping each chapter in separate directory under MyVideos directory in your home:\n",
        "    yt-dlp -u user -p password -P \"~/MyVideos\" -o \"%(playlist)s/%(chapter_number)s - %(chapter)s/%(title)s.%(ext)s\" \"https://www.udemy.com/java-tutorial\"\n",
        "\n",
        "  - Download entire series season keeping each series and each season in separate directory under C:/MyVideos:\n",
        "    yt-dlp -P \"C:/MyVideos\" -o \"%(series)s/%(season_number)s - %(season)s/%(episode_number)s - %(episode)s.%(ext)s\" \"https://videomore.ru/kino_v_detalayah/5_sezon/367617\"**bold text**\n",
        "```\n",
        "\n",
        "More examples:\n",
        "```\n",
        "Output template examples\n",
        "$ yt-dlp --get-filename -o \"test video.%(ext)s\" BaW_jenozKc\n",
        "test video.webm    # Literal name with correct extension\n",
        "\n",
        "$ yt-dlp --get-filename -o \"%(title)s.%(ext)s\" BaW_jenozKc\n",
        "youtube-dl test video ''_ä↭𝕐.webm    # All kinds of weird characters\n",
        "\n",
        "$ yt-dlp --get-filename -o \"%(title)s.%(ext)s\" BaW_jenozKc --restrict-filenames\n",
        "youtube-dl_test_video_.webm    # Restricted file name\n",
        "\n",
        "# Download YouTube playlist videos in separate directory indexed by video order in a playlist\n",
        "$ yt-dlp -o \"%(playlist)s/%(playlist_index)s - %(title)s.%(ext)s\" \"https://www.youtube.com/playlist?list=PLwiyx1dc3P2JR9N8gQaQN_BCvlSlap7re\"\n",
        "\n",
        "# Download YouTube playlist videos in separate directories according to their uploaded year\n",
        "$ yt-dlp -o \"%(upload_date>%Y)s/%(title)s.%(ext)s\" \"https://www.youtube.com/playlist?list=PLwiyx1dc3P2JR9N8gQaQN_BCvlSlap7re\"\n",
        "\n",
        "# Prefix playlist index with \" - \" separator, but only if it is available\n",
        "$ yt-dlp -o '%(playlist_index|)s%(playlist_index& - |)s%(title)s.%(ext)s' BaW_jenozKc \"https://www.youtube.com/user/TheLinuxFoundation/playlists\"\n",
        "\n",
        "# Download all playlists of YouTube channel/user keeping each playlist in separate directory:\n",
        "$ yt-dlp -o \"%(uploader)s/%(playlist)s/%(playlist_index)s - %(title)s.%(ext)s\" \"https://www.youtube.com/user/TheLinuxFoundation/playlists\"\n",
        "\n",
        "# Download Udemy course keeping each chapter in separate directory under MyVideos directory in your home\n",
        "$ yt-dlp -u user -p password -P \"~/MyVideos\" -o \"%(playlist)s/%(chapter_number)s - %(chapter)s/%(title)s.%(ext)s\" \"https://www.udemy.com/java-tutorial\"\n",
        "\n",
        "# Download entire series season keeping each series and each season in separate directory under C:/MyVideos\n",
        "$ yt-dlp -P \"C:/MyVideos\" -o \"%(series)s/%(season_number)s - %(season)s/%(episode_number)s - %(episode)s.%(ext)s\" \"https://videomore.ru/kino_v_detalayah/5_sezon/367617\"\n",
        "\n",
        "# Download video as \"C:\\MyVideos\\uploader\\title.ext\", subtitles as \"C:\\MyVideos\\subs\\uploader\\title.ext\"\n",
        "# and put all temporary files in \"C:\\MyVideos\\tmp\"\n",
        "$ yt-dlp -P \"C:/MyVideos\" -P \"temp:tmp\" -P \"subtitle:subs\" -o \"%(uploader)s/%(title)s.%(ext)s\" BaW_jenoz --write-subs\n",
        "\n",
        "# Download video as \"C:\\MyVideos\\uploader\\title.ext\" and subtitles as \"C:\\MyVideos\\uploader\\subs\\title.ext\"\n",
        "$ yt-dlp -P \"C:/MyVideos\" -o \"%(uploader)s/%(title)s.%(ext)s\" -o \"subtitle:%(uploader)s/subs/%(title)s.%(ext)s\" BaW_jenozKc --write-subs\n",
        "\n",
        "# Stream the video being downloaded to stdout\n",
        "$ yt-dlp -o - BaW_jenozKc\n",
        "```\n"
      ],
      "metadata": {
        "id": "vXf74fV_G4xG"
      }
    }
  ]
}